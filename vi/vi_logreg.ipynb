{
 "cells": [
  {
   "cell_type": "code",
   "execution_count": 1,
   "metadata": {
    "collapsed": false
   },
   "outputs": [],
   "source": [
    "import numpy as np\n",
    "import matplotlib.pyplot as plt\n",
    "from scipy.special import expit as sigmoid\n",
    "from scipy.stats import norm\n",
    "\n",
    "\n",
    "from scipy.stats import multivariate_normal as mvn"
   ]
  },
  {
   "cell_type": "code",
   "execution_count": 2,
   "metadata": {
    "collapsed": false
   },
   "outputs": [
    {
     "name": "stdout",
     "output_type": "stream",
     "text": [
      "Real W [ 0.48951662  0.23879586]\n"
     ]
    }
   ],
   "source": [
    "N = 1000\n",
    "D = 2\n",
    "rs = np.random.RandomState(1)\n",
    "X = rs.randn(N, D)\n",
    "W_real = rs.randn(D)\n",
    "print \"Real W\", W_real\n",
    "Y = rs.binomial(1, sigmoid(np.dot(X, W_real)))"
   ]
  },
  {
   "cell_type": "code",
   "execution_count": 3,
   "metadata": {
    "collapsed": true
   },
   "outputs": [],
   "source": [
    "def elbo_grad(z_sample, mu, sigma):\n",
    "    score_mu = (z_sample - mu)/ sigma\n",
    "    score_logsigma = (-1/(2 * sigma) + np.power((z_sample - mu), 2) / (2 * np.power(sigma, 2))) * sigma\n",
    "\n",
    "    likelihood = np.sum(Y * np.log(sigmoid(np.dot(X, z_sample))) + (1 - Y) * np.log(1 - sigmoid(np.dot(X, z_sample))))\n",
    "    prior = np.sum(norm.logpdf(z_sample, np.zeros(D), np.ones(D)))\n",
    "    log_p = likelihood + prior\n",
    "    log_q = np.sum(norm.logpdf(z_sample, mu, np.sqrt(sigma)))\n",
    "    return np.concatenate([score_mu, score_logsigma]) * (log_p - log_q)"
   ]
  },
  {
   "cell_type": "code",
   "execution_count": 4,
   "metadata": {
    "collapsed": true
   },
   "outputs": [],
   "source": [
    "%matplotlib inline\n",
    "from IPython import display\n",
    "\n",
    "def plot_isocontours(func, xlimits=[-1.5, 1.5], ylimits=[-1.5, 1.5], numticks=101):\n",
    "     x = np.linspace(*xlimits, num=numticks)\n",
    "     y = np.linspace(*ylimits, num=numticks)\n",
    "     X, Y = np.meshgrid(x, y)\n",
    "     zs = func(np.concatenate([np.atleast_2d(X.ravel()), np.atleast_2d(Y.ravel())]).T)\n",
    "     Z = zs.reshape(X.shape)\n",
    "     plt.contour(X, Y, Z)\n",
    "\n",
    "def callback(mu, log_sigma):\n",
    "    plt.clf()\n",
    "    variational_contour = lambda x: mvn.pdf(x, mu, np.diag(np.exp(2*log_sigma)))\n",
    "    plot_isocontours(variational_contour)\n",
    "    #plt.pause(1.0/30.0)\n",
    "\n",
    "    plt.scatter([W_real[0]], [W_real[1]])\n",
    "    \n",
    "    display.clear_output(wait=True)\n",
    "    display.display(plt.gcf())\n"
   ]
  },
  {
   "cell_type": "code",
   "execution_count": 5,
   "metadata": {
    "collapsed": false
   },
   "outputs": [
    {
     "data": {
      "image/png": "[encoded data removed]",
      "text/plain": [
       "<matplotlib.figure.Figure at 0x7fec6c20a590>"
      ]
     },
     "metadata": {},
     "output_type": "display_data"
    },
    {
     "name": "stdout",
     "output_type": "stream",
     "text": [
      "[-1.75213904 -1.83284065]\n",
      "[-1.75044891 -1.83238682]\n",
      "[-1.75356311 -1.8305647 ]\n",
      "[-1.7542608  -1.83389482]\n",
      "[-1.75495028 -1.83319186]\n",
      "[-1.75589937 -1.8329207 ]\n",
      "[-1.75571828 -1.83279257]\n",
      "[-1.75772971 -1.83343643]\n",
      "[-1.75963065 -1.83227508]\n",
      "[-1.75907512 -1.83207983]\n"
     ]
    },
    {
     "data": {
      "image/png": "[encoded data removed]",
      "text/plain": [
       "<matplotlib.figure.Figure at 0x7fec6c20a590>"
      ]
     },
     "metadata": {},
     "output_type": "display_data"
    }
   ],
   "source": [
    "rs = np.random.RandomState(1)\n",
    "S = 100\n",
    "n_iter = 1000\n",
    "eta = 0.001\n",
    "\n",
    "mu = rs.randn(D)\n",
    "log_sigma = rs.randn(D)\n",
    "\n",
    "#print log_sigma\n",
    "for t in xrange(n_iter):\n",
    "    if t % 10 == 0:\n",
    "        print t, log_sigma\n",
    "        callback(mu, log_sigma)\n",
    "        \n",
    "    for i, s in enumerate(log_sigma):\n",
    "        if s < -10:\n",
    "            log_sigma[i] = -10\n",
    "\n",
    "    print log_sigma\n",
    "    sigma = np.exp(log_sigma)\n",
    "    #print sigma\n",
    "    samples = np.array([rs.normal(mu, np.sqrt(sigma)) for s in xrange(S)])\n",
    "\n",
    "    grad_estimate = np.mean(np.array([elbo_grad(z_sample, mu, sigma) for z_sample in samples]), axis=0)\n",
    " \n",
    "    mu += (eta / (5.0 + np.sqrt(t))) * grad_estimate[:D]\n",
    "    log_sigma += (eta / (5.0 + np.sqrt(t))) * grad_estimate[D:]\n",
    "\n"
   ]
  },
  {
   "cell_type": "code",
   "execution_count": null,
   "metadata": {
    "collapsed": true
   },
   "outputs": [],
   "source": []
  },
  {
   "cell_type": "code",
   "execution_count": null,
   "metadata": {
    "collapsed": true
   },
   "outputs": [],
   "source": []
  }
 ],
 "metadata": {
  "kernelspec": {
   "display_name": "Python 2",
   "language": "python",
   "name": "python2"
  },
  "language_info": {
   "codemirror_mode": {
    "name": "ipython",
    "version": 2
   },
   "file_extension": ".py",
   "mimetype": "text/x-python",
   "name": "python",
   "nbconvert_exporter": "python",
   "pygments_lexer": "ipython2",
   "version": "2.7.6"
  }
 },
 "nbformat": 4,
 "nbformat_minor": 0
}
